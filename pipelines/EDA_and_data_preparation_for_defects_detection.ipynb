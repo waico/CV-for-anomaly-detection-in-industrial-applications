{
 "cells": [
  {
   "cell_type": "code",
   "execution_count": 1,
   "metadata": {},
   "outputs": [],
   "source": [
    "import pandas as pd\n",
    "import seaborn as sns\n",
    "import matplotlib.pyplot as plt\n",
    "import numpy as np\n",
    "import skimage\n",
    "from skimage import io\n",
    "from preproc import *"
   ]
  },
  {
   "cell_type": "markdown",
   "metadata": {},
   "source": [
    "# Data obtained from sensors"
   ]
  },
  {
   "cell_type": "markdown",
   "metadata": {},
   "source": [
    "We have 10 datasets:\n",
    "1. 989.09 meters &nbsp; &nbsp; | &nbsp; 21 defects &nbsp; | &nbsp; 116 welds &nbsp; | &nbsp; 1 or 2 sections don't work\n",
    "2. 2705.02 meters &nbsp; | &nbsp; 7 defects &nbsp; &nbsp; | &nbsp; 276 welds &nbsp; | &nbsp; 1 or 2 sections don't work\n",
    "3. 7890.75 meters &nbsp; | &nbsp; 15 defects &nbsp; | &nbsp; 819 welds &nbsp; | &nbsp; small sensors issues\n",
    "4. 2743.74 meters &nbsp; | &nbsp; 39 defects &nbsp; | &nbsp; 269 welds &nbsp; | &nbsp; 1 section doesn't work\n",
    "5. 15162.85 meters&nbsp;|&nbsp; 745 defects &nbsp;|&nbsp; 1462 welds &nbsp;| &nbsp; 2 or 3 sections don't work\n",
    "6. 752.80 meters &nbsp; &nbsp; | &nbsp; 1 defect &nbsp; &nbsp; &nbsp; | &nbsp; 111 welds &nbsp; | &nbsp; 1 section doesn't work\n",
    "7. 1786.21 meters &nbsp; | &nbsp; 12 defects &nbsp; | &nbsp; 219 welds &nbsp; | &nbsp; 1, 2 or 3 sections don't work\n",
    "8. 4528.35 meters &nbsp; | &nbsp; 15 defects &nbsp; | &nbsp; 431 welds &nbsp; | &nbsp; small sensors issues\n",
    "9. 982.56 meters &nbsp; &nbsp; | &nbsp; 15 defects &nbsp; | &nbsp; 107 welds &nbsp; | &nbsp; no issues\n",
    "10. 18883.02 meters&nbsp;| &nbsp; 72 defects &nbsp; |&nbsp; 1708 welds &nbsp;| &nbsp; small sensors issues"
   ]
  },
  {
   "cell_type": "markdown",
   "metadata": {},
   "source": [
    "For the research we selected 5th dataset because of the defects amount.\n",
    "\n",
    "Let us upload it:"
   ]
  },
  {
   "cell_type": "code",
   "execution_count": 2,
   "metadata": {},
   "outputs": [],
   "source": [
    "df = pd.read_csv('../../data/raw_data/mag_5/magnetogram.csv')"
   ]
  },
  {
   "cell_type": "code",
   "execution_count": 3,
   "metadata": {},
   "outputs": [
    {
     "data": {
      "text/html": [
       "<div>\n",
       "<style scoped>\n",
       "    .dataframe tbody tr th:only-of-type {\n",
       "        vertical-align: middle;\n",
       "    }\n",
       "\n",
       "    .dataframe tbody tr th {\n",
       "        vertical-align: top;\n",
       "    }\n",
       "\n",
       "    .dataframe thead th {\n",
       "        text-align: right;\n",
       "    }\n",
       "</style>\n",
       "<table border=\"1\" class=\"dataframe\">\n",
       "  <thead>\n",
       "    <tr style=\"text-align: right;\">\n",
       "      <th></th>\n",
       "      <th>Tag</th>\n",
       "      <th>Size</th>\n",
       "      <th>Time</th>\n",
       "      <th>Dist</th>\n",
       "      <th>Wheel1_v</th>\n",
       "      <th>Wheel2_v</th>\n",
       "      <th>Index</th>\n",
       "      <th>Angle</th>\n",
       "      <th>Flags</th>\n",
       "      <th>Dist_ext</th>\n",
       "      <th>...</th>\n",
       "      <th>15.1</th>\n",
       "      <th>15.2</th>\n",
       "      <th>15.3</th>\n",
       "      <th>15.4</th>\n",
       "      <th>Status 16</th>\n",
       "      <th>16.1</th>\n",
       "      <th>16.2</th>\n",
       "      <th>16.3</th>\n",
       "      <th>16.4</th>\n",
       "      <th>CRC</th>\n",
       "    </tr>\n",
       "  </thead>\n",
       "  <tbody>\n",
       "    <tr>\n",
       "      <th>0</th>\n",
       "      <td>VDF0</td>\n",
       "      <td>112</td>\n",
       "      <td>38.481254</td>\n",
       "      <td>-3075</td>\n",
       "      <td>3399</td>\n",
       "      <td>1367</td>\n",
       "      <td>0</td>\n",
       "      <td>0</td>\n",
       "      <td>6b</td>\n",
       "      <td>0</td>\n",
       "      <td>...</td>\n",
       "      <td>0</td>\n",
       "      <td>0</td>\n",
       "      <td>35</td>\n",
       "      <td>0</td>\n",
       "      <td>0</td>\n",
       "      <td>0</td>\n",
       "      <td>0</td>\n",
       "      <td>0</td>\n",
       "      <td>0</td>\n",
       "      <td>40536e88</td>\n",
       "    </tr>\n",
       "    <tr>\n",
       "      <th>1</th>\n",
       "      <td>VDF0</td>\n",
       "      <td>112</td>\n",
       "      <td>52.869986</td>\n",
       "      <td>-2743</td>\n",
       "      <td>3474</td>\n",
       "      <td>1348</td>\n",
       "      <td>1</td>\n",
       "      <td>0</td>\n",
       "      <td>2b</td>\n",
       "      <td>0</td>\n",
       "      <td>...</td>\n",
       "      <td>68</td>\n",
       "      <td>153</td>\n",
       "      <td>218</td>\n",
       "      <td>258</td>\n",
       "      <td>0</td>\n",
       "      <td>0</td>\n",
       "      <td>0</td>\n",
       "      <td>0</td>\n",
       "      <td>0</td>\n",
       "      <td>a6493a3d</td>\n",
       "    </tr>\n",
       "    <tr>\n",
       "      <th>2</th>\n",
       "      <td>VDF0</td>\n",
       "      <td>112</td>\n",
       "      <td>54.780140</td>\n",
       "      <td>-3078</td>\n",
       "      <td>3513</td>\n",
       "      <td>1273</td>\n",
       "      <td>2</td>\n",
       "      <td>0</td>\n",
       "      <td>4b</td>\n",
       "      <td>0</td>\n",
       "      <td>...</td>\n",
       "      <td>79</td>\n",
       "      <td>32</td>\n",
       "      <td>44</td>\n",
       "      <td>56</td>\n",
       "      <td>0</td>\n",
       "      <td>0</td>\n",
       "      <td>0</td>\n",
       "      <td>0</td>\n",
       "      <td>0</td>\n",
       "      <td>c6a4697f</td>\n",
       "    </tr>\n",
       "  </tbody>\n",
       "</table>\n",
       "<p>3 rows × 91 columns</p>\n",
       "</div>"
      ],
      "text/plain": [
       "    Tag  Size       Time  Dist  Wheel1_v  Wheel2_v  Index  Angle Flags  \\\n",
       "0  VDF0   112  38.481254 -3075      3399      1367      0      0    6b   \n",
       "1  VDF0   112  52.869986 -2743      3474      1348      1      0    2b   \n",
       "2  VDF0   112  54.780140 -3078      3513      1273      2      0    4b   \n",
       "\n",
       "   Dist_ext  ...  15.1  15.2  15.3  15.4  Status 16  16.1  16.2  16.3  16.4  \\\n",
       "0         0  ...     0     0    35     0          0     0     0     0     0   \n",
       "1         0  ...    68   153   218   258          0     0     0     0     0   \n",
       "2         0  ...    79    32    44    56          0     0     0     0     0   \n",
       "\n",
       "        CRC  \n",
       "0  40536e88  \n",
       "1  a6493a3d  \n",
       "2  c6a4697f  \n",
       "\n",
       "[3 rows x 91 columns]"
      ]
     },
     "execution_count": 3,
     "metadata": {},
     "output_type": "execute_result"
    }
   ],
   "source": [
    "df.head(3)"
   ]
  },
  {
   "cell_type": "markdown",
   "metadata": {},
   "source": [
    "We use preprocessing for selecting important columns, distance correcting, etc."
   ]
  },
  {
   "cell_type": "code",
   "execution_count": 4,
   "metadata": {},
   "outputs": [],
   "source": [
    "df = get_df(df)"
   ]
  },
  {
   "cell_type": "markdown",
   "metadata": {},
   "source": [
    "Finally, dataset looks like this:"
   ]
  },
  {
   "cell_type": "code",
   "execution_count": 5,
   "metadata": {},
   "outputs": [
    {
     "data": {
      "text/html": [
       "<div>\n",
       "<style scoped>\n",
       "    .dataframe tbody tr th:only-of-type {\n",
       "        vertical-align: middle;\n",
       "    }\n",
       "\n",
       "    .dataframe tbody tr th {\n",
       "        vertical-align: top;\n",
       "    }\n",
       "\n",
       "    .dataframe thead th {\n",
       "        text-align: right;\n",
       "    }\n",
       "</style>\n",
       "<table border=\"1\" class=\"dataframe\">\n",
       "  <thead>\n",
       "    <tr style=\"text-align: right;\">\n",
       "      <th></th>\n",
       "      <th>1.1</th>\n",
       "      <th>1.2</th>\n",
       "      <th>1.3</th>\n",
       "      <th>1.4</th>\n",
       "      <th>2.1</th>\n",
       "      <th>2.2</th>\n",
       "      <th>2.3</th>\n",
       "      <th>2.4</th>\n",
       "      <th>3.1</th>\n",
       "      <th>3.2</th>\n",
       "      <th>...</th>\n",
       "      <th>14.3</th>\n",
       "      <th>14.4</th>\n",
       "      <th>15.1</th>\n",
       "      <th>15.2</th>\n",
       "      <th>15.3</th>\n",
       "      <th>15.4</th>\n",
       "      <th>16.1</th>\n",
       "      <th>16.2</th>\n",
       "      <th>16.3</th>\n",
       "      <th>16.4</th>\n",
       "    </tr>\n",
       "  </thead>\n",
       "  <tbody>\n",
       "    <tr>\n",
       "      <th>7.67144</th>\n",
       "      <td>3171</td>\n",
       "      <td>3180</td>\n",
       "      <td>3174</td>\n",
       "      <td>3164</td>\n",
       "      <td>3172</td>\n",
       "      <td>3178</td>\n",
       "      <td>3188</td>\n",
       "      <td>3199</td>\n",
       "      <td>0</td>\n",
       "      <td>0</td>\n",
       "      <td>...</td>\n",
       "      <td>3200</td>\n",
       "      <td>3193</td>\n",
       "      <td>3207</td>\n",
       "      <td>3195</td>\n",
       "      <td>3195</td>\n",
       "      <td>3173</td>\n",
       "      <td>3187</td>\n",
       "      <td>3189</td>\n",
       "      <td>3206</td>\n",
       "      <td>3183</td>\n",
       "    </tr>\n",
       "    <tr>\n",
       "      <th>7.67484</th>\n",
       "      <td>3172</td>\n",
       "      <td>3180</td>\n",
       "      <td>3177</td>\n",
       "      <td>3166</td>\n",
       "      <td>3170</td>\n",
       "      <td>3179</td>\n",
       "      <td>3189</td>\n",
       "      <td>3200</td>\n",
       "      <td>0</td>\n",
       "      <td>0</td>\n",
       "      <td>...</td>\n",
       "      <td>3200</td>\n",
       "      <td>3194</td>\n",
       "      <td>3206</td>\n",
       "      <td>3195</td>\n",
       "      <td>3196</td>\n",
       "      <td>3173</td>\n",
       "      <td>3186</td>\n",
       "      <td>3188</td>\n",
       "      <td>3202</td>\n",
       "      <td>3183</td>\n",
       "    </tr>\n",
       "    <tr>\n",
       "      <th>7.67819</th>\n",
       "      <td>3171</td>\n",
       "      <td>3176</td>\n",
       "      <td>3177</td>\n",
       "      <td>3165</td>\n",
       "      <td>3172</td>\n",
       "      <td>3176</td>\n",
       "      <td>3190</td>\n",
       "      <td>3199</td>\n",
       "      <td>0</td>\n",
       "      <td>0</td>\n",
       "      <td>...</td>\n",
       "      <td>3200</td>\n",
       "      <td>3189</td>\n",
       "      <td>3206</td>\n",
       "      <td>3194</td>\n",
       "      <td>3198</td>\n",
       "      <td>3175</td>\n",
       "      <td>3186</td>\n",
       "      <td>3191</td>\n",
       "      <td>3201</td>\n",
       "      <td>3182</td>\n",
       "    </tr>\n",
       "  </tbody>\n",
       "</table>\n",
       "<p>3 rows × 64 columns</p>\n",
       "</div>"
      ],
      "text/plain": [
       "          1.1   1.2   1.3   1.4   2.1   2.2   2.3   2.4  3.1  3.2  ...  14.3  \\\n",
       "7.67144  3171  3180  3174  3164  3172  3178  3188  3199    0    0  ...  3200   \n",
       "7.67484  3172  3180  3177  3166  3170  3179  3189  3200    0    0  ...  3200   \n",
       "7.67819  3171  3176  3177  3165  3172  3176  3190  3199    0    0  ...  3200   \n",
       "\n",
       "         14.4  15.1  15.2  15.3  15.4  16.1  16.2  16.3  16.4  \n",
       "7.67144  3193  3207  3195  3195  3173  3187  3189  3206  3183  \n",
       "7.67484  3194  3206  3195  3196  3173  3186  3188  3202  3183  \n",
       "7.67819  3189  3206  3194  3198  3175  3186  3191  3201  3182  \n",
       "\n",
       "[3 rows x 64 columns]"
      ]
     },
     "execution_count": 5,
     "metadata": {},
     "output_type": "execute_result"
    }
   ],
   "source": [
    "df.head(3)"
   ]
  },
  {
   "cell_type": "markdown",
   "metadata": {},
   "source": [
    "Let us look at the data in appropriate way."
   ]
  },
  {
   "cell_type": "code",
   "execution_count": 6,
   "metadata": {},
   "outputs": [
    {
     "data": {
      "image/png": "[encoded data removed]",
      "text/plain": [
       "<Figure size 1296x576 with 2 Axes>"
      ]
     },
     "metadata": {},
     "output_type": "display_data"
    }
   ],
   "source": [
    "df_to_plot = df[:10]\n",
    "df_to_plot.index = np.round(df_to_plot.index, 2)\n",
    "num_of_labels = int(df_to_plot.shape[1]/5)\n",
    "\n",
    "sns.set(rc={'figure.figsize':(18,8)})\n",
    "sns.set(font_scale=1.3)\n",
    "sns_plot = sns.heatmap(df_to_plot.T, cbar=True, xticklabels=num_of_labels, cmap='viridis')\n",
    "plt.xlabel('Distance, meters')\n",
    "plt.ylabel('Sensor number')\n",
    "plt.tight_layout()\n",
    "plt.show()"
   ]
  },
  {
   "cell_type": "markdown",
   "metadata": {},
   "source": [
    "# Defects"
   ]
  },
  {
   "cell_type": "markdown",
   "metadata": {},
   "source": [
    "Let us upload defects file."
   ]
  },
  {
   "cell_type": "code",
   "execution_count": 7,
   "metadata": {},
   "outputs": [],
   "source": [
    "defects = pd.read_csv('../../data/defects/defects_5.csv', index_col='Unnamed: 0')"
   ]
  },
  {
   "cell_type": "code",
   "execution_count": 8,
   "metadata": {},
   "outputs": [],
   "source": [
    "defects.rename(columns={\n",
    "    '№ дефекта':'№ of the defect',\n",
    "    'Дистанция, м':'Distance, m',\n",
    "    'Дистанция от начала секции до максимума сигнала, м':'Distance from the section beginning to the signal max, m',\n",
    "    '№ секции':'№ of the section',\n",
    "    'Тип дефекта':'Defect type',\n",
    "    'Глубина, %':'Defect depth, %',\n",
    "    'Размер зоны индикации LxB, мм':'Indication zone size LxB, mm',\n",
    "    'Толщина стенки, мм':'Wall thickness, mm',\n",
    "    'Местоположение дефекта':'Defect location',\n",
    "    'Номер магнито-граммы':'№ of the magnitogramm',\n",
    "}, inplace=True)"
   ]
  },
  {
   "cell_type": "code",
   "execution_count": 9,
   "metadata": {},
   "outputs": [
    {
     "data": {
      "text/html": [
       "<div>\n",
       "<style scoped>\n",
       "    .dataframe tbody tr th:only-of-type {\n",
       "        vertical-align: middle;\n",
       "    }\n",
       "\n",
       "    .dataframe tbody tr th {\n",
       "        vertical-align: top;\n",
       "    }\n",
       "\n",
       "    .dataframe thead th {\n",
       "        text-align: right;\n",
       "    }\n",
       "</style>\n",
       "<table border=\"1\" class=\"dataframe\">\n",
       "  <thead>\n",
       "    <tr style=\"text-align: right;\">\n",
       "      <th></th>\n",
       "      <th>№ of the defect</th>\n",
       "      <th>Distance, m</th>\n",
       "      <th>Distance from the section beginning to the signal max, m</th>\n",
       "      <th>№ of the section</th>\n",
       "      <th>Defect type</th>\n",
       "      <th>Defect depth, %</th>\n",
       "      <th>Размер зоны индикации BxL, мм</th>\n",
       "      <th>Wall thickness, mm</th>\n",
       "      <th>Defect location</th>\n",
       "      <th>№ of the magnitogramm</th>\n",
       "    </tr>\n",
       "  </thead>\n",
       "  <tbody>\n",
       "    <tr>\n",
       "      <th>0</th>\n",
       "      <td>1</td>\n",
       "      <td>168.36</td>\n",
       "      <td>0.00</td>\n",
       "      <td>26</td>\n",
       "      <td>Коррозия шва</td>\n",
       "      <td>NaN</td>\n",
       "      <td>15x150</td>\n",
       "      <td>8.0</td>\n",
       "      <td>Сварной шов</td>\n",
       "      <td>NaN</td>\n",
       "    </tr>\n",
       "    <tr>\n",
       "      <th>1</th>\n",
       "      <td>2</td>\n",
       "      <td>373.90</td>\n",
       "      <td>0.00</td>\n",
       "      <td>45</td>\n",
       "      <td>Коррозия шва</td>\n",
       "      <td>NaN</td>\n",
       "      <td>10х70</td>\n",
       "      <td>7.7</td>\n",
       "      <td>Сварной шов</td>\n",
       "      <td>NaN</td>\n",
       "    </tr>\n",
       "    <tr>\n",
       "      <th>2</th>\n",
       "      <td>3</td>\n",
       "      <td>566.62</td>\n",
       "      <td>3.24</td>\n",
       "      <td>62</td>\n",
       "      <td>Коррозионная риска</td>\n",
       "      <td>35.0</td>\n",
       "      <td>10х40</td>\n",
       "      <td>7.5</td>\n",
       "      <td>Стенка трубы</td>\n",
       "      <td>NaN</td>\n",
       "    </tr>\n",
       "  </tbody>\n",
       "</table>\n",
       "</div>"
      ],
      "text/plain": [
       "   № of the defect  Distance, m  \\\n",
       "0                1       168.36   \n",
       "1                2       373.90   \n",
       "2                3       566.62   \n",
       "\n",
       "   Distance from the section beginning to the signal max, m  № of the section  \\\n",
       "0                                               0.00                       26   \n",
       "1                                               0.00                       45   \n",
       "2                                               3.24                       62   \n",
       "\n",
       "          Defect type  Defect depth, % Размер зоны индикации BxL, мм  \\\n",
       "0        Коррозия шва              NaN                        15x150   \n",
       "1        Коррозия шва              NaN                         10х70   \n",
       "2  Коррозионная риска             35.0                         10х40   \n",
       "\n",
       "   Wall thickness, mm Defect location  № of the magnitogramm  \n",
       "0                 8.0     Сварной шов                    NaN  \n",
       "1                 7.7     Сварной шов                    NaN  \n",
       "2                 7.5    Стенка трубы                    NaN  "
      ]
     },
     "execution_count": 9,
     "metadata": {},
     "output_type": "execute_result"
    }
   ],
   "source": [
    "defects.head(3)"
   ]
  },
  {
   "cell_type": "markdown",
   "metadata": {},
   "source": [
    "There are different defect types:"
   ]
  },
  {
   "cell_type": "code",
   "execution_count": 10,
   "metadata": {},
   "outputs": [
    {
     "data": {
      "text/plain": [
       "Питтинг                        185\n",
       "Общая коррозия (скопление)     169\n",
       "Коррозионная канавка           108\n",
       "Язвенная коррозия              104\n",
       "Скопление питтингов             80\n",
       "Коррозия шва                    35\n",
       "Скопление язвенных коррозий     30\n",
       "Коррозионная риска              29\n",
       "Питтинг                          3\n",
       "Коррозионная риска               1\n",
       "Общая коррозия (скопление)       1\n",
       "Name: Defect type, dtype: int64"
      ]
     },
     "execution_count": 10,
     "metadata": {},
     "output_type": "execute_result"
    }
   ],
   "source": [
    "defects['Defect type'].value_counts()"
   ]
  },
  {
   "cell_type": "markdown",
   "metadata": {},
   "source": [
    "They generally follow the classification:\n",
    "\n",
    "<img src=\"figures/defect_classes.png\" align=\"left\" alt=\"alt text\" width=\"400\"/>"
   ]
  },
  {
   "cell_type": "markdown",
   "metadata": {},
   "source": [
    "For now we do not separate defects classes, we count all of them as a single class - 'defect'."
   ]
  },
  {
   "cell_type": "markdown",
   "metadata": {},
   "source": [
    "There are different defect locations:"
   ]
  },
  {
   "cell_type": "code",
   "execution_count": 11,
   "metadata": {},
   "outputs": [
    {
     "data": {
      "text/plain": [
       "Стенка трубы    711\n",
       "Сварной шов      34\n",
       "Name: Defect location, dtype: int64"
      ]
     },
     "execution_count": 11,
     "metadata": {},
     "output_type": "execute_result"
    }
   ],
   "source": [
    "defects['Defect location'].value_counts()"
   ]
  },
  {
   "cell_type": "markdown",
   "metadata": {},
   "source": [
    "We choose the defects located on the pipe wall (in Russion 'Стенка трубы')."
   ]
  },
  {
   "cell_type": "code",
   "execution_count": 12,
   "metadata": {},
   "outputs": [
    {
     "data": {
      "application/vnd.jupyter.widget-view+json": {
       "model_id": "c82cf9b54659479d8a9c3254e2a6f739",
       "version_major": 2,
       "version_minor": 0
      },
      "text/plain": [
       "HBox(children=(IntProgress(value=0, max=711), HTML(value='')))"
      ]
     },
     "metadata": {},
     "output_type": "display_data"
    },
    {
     "name": "stdout",
     "output_type": "stream",
     "text": [
      "\n"
     ]
    }
   ],
   "source": [
    "pictures_with_defects = crop_squares_with_defects(df, \n",
    "                                                  defects[defects['Defect location'] =='Стенка трубы'], \n",
    "                                                  centering=False, \n",
    "                                                  scaling=False)"
   ]
  },
  {
   "cell_type": "code",
   "execution_count": 13,
   "metadata": {},
   "outputs": [
    {
     "name": "stdout",
     "output_type": "stream",
     "text": [
      "Total number of pictures with defects is equal to 711\n"
     ]
    }
   ],
   "source": [
    "print(f'Total number of pictures with defects is equal to {len(pictures_with_defects)}')"
   ]
  },
  {
   "cell_type": "markdown",
   "metadata": {},
   "source": [
    "# Welds"
   ]
  },
  {
   "cell_type": "markdown",
   "metadata": {},
   "source": [
    "Let us upload journal file."
   ]
  },
  {
   "cell_type": "code",
   "execution_count": 15,
   "metadata": {},
   "outputs": [],
   "source": [
    "journal = pd.read_excel('../../data/journals/journal_5.xlsx')"
   ]
  },
  {
   "cell_type": "code",
   "execution_count": 16,
   "metadata": {},
   "outputs": [],
   "source": [
    "journal.rename(columns={\n",
    "    '№ секции':'№ of the section',\n",
    "    'Местоположение начала секции по дистанции трубопровода, м':'Location of the section beginning, m',\n",
    "    'Длина секции, м':'Section length, m',\n",
    "    'Номина-льная толщина стенки, мм':'Nominal wall thickness, mm',\n",
    "    'Средняя толщина стенки, мм':'Mean wall thickness, mm',\n",
    "    'Внешний диаметр трубы, мм':'Outside pipe diameter, mm',\n",
    "    'Тип секции':'Section type',\n",
    "}, inplace=True)"
   ]
  },
  {
   "cell_type": "code",
   "execution_count": 17,
   "metadata": {},
   "outputs": [],
   "source": [
    "journal = journal[(journal['Location of the section beginning, m'] > df.index[0]) &\n",
    "                 (journal['Location of the section beginning, m'] < df.index[-1])]"
   ]
  },
  {
   "cell_type": "code",
   "execution_count": 18,
   "metadata": {},
   "outputs": [
    {
     "data": {
      "text/html": [
       "<div>\n",
       "<style scoped>\n",
       "    .dataframe tbody tr th:only-of-type {\n",
       "        vertical-align: middle;\n",
       "    }\n",
       "\n",
       "    .dataframe tbody tr th {\n",
       "        vertical-align: top;\n",
       "    }\n",
       "\n",
       "    .dataframe thead th {\n",
       "        text-align: right;\n",
       "    }\n",
       "</style>\n",
       "<table border=\"1\" class=\"dataframe\">\n",
       "  <thead>\n",
       "    <tr style=\"text-align: right;\">\n",
       "      <th></th>\n",
       "      <th>№ of the section</th>\n",
       "      <th>Location of the section beginning, m</th>\n",
       "      <th>Section length, m</th>\n",
       "      <th>Nominal wall thickness, mm</th>\n",
       "      <th>Mean wall thickness, mm</th>\n",
       "      <th>Outside pipe diameter, mm</th>\n",
       "      <th>Section type</th>\n",
       "    </tr>\n",
       "  </thead>\n",
       "  <tbody>\n",
       "    <tr>\n",
       "      <th>9</th>\n",
       "      <td>10</td>\n",
       "      <td>8.90</td>\n",
       "      <td>1.30</td>\n",
       "      <td>8.0</td>\n",
       "      <td>NaN</td>\n",
       "      <td>219.0</td>\n",
       "      <td>отвод</td>\n",
       "    </tr>\n",
       "    <tr>\n",
       "      <th>10</th>\n",
       "      <td>11</td>\n",
       "      <td>10.21</td>\n",
       "      <td>8.43</td>\n",
       "      <td>8.0</td>\n",
       "      <td>8.4</td>\n",
       "      <td>219.0</td>\n",
       "      <td>бесшовная</td>\n",
       "    </tr>\n",
       "    <tr>\n",
       "      <th>11</th>\n",
       "      <td>12</td>\n",
       "      <td>18.64</td>\n",
       "      <td>11.83</td>\n",
       "      <td>8.0</td>\n",
       "      <td>8.4</td>\n",
       "      <td>219.0</td>\n",
       "      <td>бесшовная</td>\n",
       "    </tr>\n",
       "  </tbody>\n",
       "</table>\n",
       "</div>"
      ],
      "text/plain": [
       "    № of the section  Location of the section beginning, m  Section length, m  \\\n",
       "9                 10                                  8.90               1.30   \n",
       "10                11                                 10.21               8.43   \n",
       "11                12                                 18.64              11.83   \n",
       "\n",
       "    Nominal wall thickness, mm  Mean wall thickness, mm  \\\n",
       "9                          8.0                      NaN   \n",
       "10                         8.0                      8.4   \n",
       "11                         8.0                      8.4   \n",
       "\n",
       "    Outside pipe diameter, mm Section type  \n",
       "9                       219.0        отвод  \n",
       "10                      219.0    бесшовная  \n",
       "11                      219.0    бесшовная  "
      ]
     },
     "execution_count": 18,
     "metadata": {},
     "output_type": "execute_result"
    }
   ],
   "source": [
    "journal.head(3)"
   ]
  },
  {
   "cell_type": "markdown",
   "metadata": {},
   "source": [
    "Let us check the variety of section types:"
   ]
  },
  {
   "cell_type": "code",
   "execution_count": 19,
   "metadata": {},
   "outputs": [
    {
     "data": {
      "text/plain": [
       "бесшовная      860\n",
       "прямошовная    570\n",
       "отвод           15\n",
       "задвижка         1\n",
       "Name: Section type, dtype: int64"
      ]
     },
     "execution_count": 19,
     "metadata": {},
     "output_type": "execute_result"
    }
   ],
   "source": [
    "journal['Section type'].value_counts()"
   ]
  },
  {
   "cell_type": "code",
   "execution_count": 19,
   "metadata": {},
   "outputs": [
    {
     "data": {
      "application/vnd.jupyter.widget-view+json": {
       "model_id": "6d165e3f49a846c5afbb0b422fc2e62f",
       "version_major": 2,
       "version_minor": 0
      },
      "text/plain": [
       "HBox(children=(IntProgress(value=0, max=1446), HTML(value='')))"
      ]
     },
     "metadata": {},
     "output_type": "display_data"
    },
    {
     "name": "stdout",
     "output_type": "stream",
     "text": [
      "\n"
     ]
    }
   ],
   "source": [
    "pictures_with_normal_welds, pictures_with_defected_welds = crop_squares_with_welds(df, \n",
    "                                                                                   journal, \n",
    "                                                                                   defects, \n",
    "                                                                                   centering=False, \n",
    "                                                                                   scaling=False)"
   ]
  },
  {
   "cell_type": "code",
   "execution_count": 20,
   "metadata": {},
   "outputs": [
    {
     "name": "stdout",
     "output_type": "stream",
     "text": [
      "Total number of pictures with welds without defects is equal to 1412\n",
      "Total number of pictures with defected welds is equal to 34\n"
     ]
    }
   ],
   "source": [
    "print(f'Total number of pictures with welds without defects is equal to {len(pictures_with_normal_welds)}')\n",
    "print(f'Total number of pictures with defected welds is equal to {len(pictures_with_defected_welds)}')"
   ]
  },
  {
   "cell_type": "markdown",
   "metadata": {},
   "source": [
    "# Normal data"
   ]
  },
  {
   "cell_type": "markdown",
   "metadata": {},
   "source": [
    "As a normal data pipes without defects or welds are considered. So we need to select these pipes intervals."
   ]
  },
  {
   "cell_type": "code",
   "execution_count": 22,
   "metadata": {},
   "outputs": [],
   "source": [
    "journal = journal[(journal['Section type']=='бесшовная') |\n",
    "                  (journal['Section type']=='прямошовная')]"
   ]
  },
  {
   "cell_type": "code",
   "execution_count": 23,
   "metadata": {},
   "outputs": [
    {
     "data": {
      "application/vnd.jupyter.widget-view+json": {
       "model_id": "bb13ba24568b44aab02067ecf7b1965c",
       "version_major": 2,
       "version_minor": 0
      },
      "text/plain": [
       "HBox(children=(IntProgress(value=0, max=1169), HTML(value='')))"
      ]
     },
     "metadata": {},
     "output_type": "display_data"
    },
    {
     "name": "stdout",
     "output_type": "stream",
     "text": [
      "\n"
     ]
    }
   ],
   "source": [
    "normal_pictures = crop_squares_with_normal(df, \n",
    "                                           journal, \n",
    "                                           defects, \n",
    "                                           scaling=False)"
   ]
  },
  {
   "cell_type": "code",
   "execution_count": 24,
   "metadata": {},
   "outputs": [
    {
     "name": "stdout",
     "output_type": "stream",
     "text": [
      "Total number of pictures with without any defects or welds is equal to 11690\n"
     ]
    }
   ],
   "source": [
    "print(f'Total number of pictures with without any defects or welds is equal to {len(normal_pictures)}')"
   ]
  },
  {
   "cell_type": "markdown",
   "metadata": {},
   "source": [
    "Here we provide samples with a normal pipe wall, defect, normal weld and defected weld:"
   ]
  },
  {
   "cell_type": "code",
   "execution_count": 76,
   "metadata": {},
   "outputs": [
    {
     "data": {
      "image/png": "[encoded data removed]",
      "text/plain": [
       "<Figure size 1152x720 with 4 Axes>"
      ]
     },
     "metadata": {},
     "output_type": "display_data"
    }
   ],
   "source": [
    "plt.figure(figsize=(16,10))\n",
    "plt.subplot(1,4,1)\n",
    "plt.imshow(normal_pictures[5], cmap='viridis')\n",
    "plt.title('Normal pipe wall')\n",
    "plt.grid(False)\n",
    "plt.subplot(1,4,2)\n",
    "plt.imshow(pictures_with_defects[55], cmap='viridis')\n",
    "plt.title('Defect')\n",
    "plt.grid(False)\n",
    "plt.subplot(1,4,3)\n",
    "plt.imshow(pictures_with_normal_welds[5], cmap='viridis')\n",
    "plt.title('Normal weld')\n",
    "plt.grid(False)\n",
    "plt.subplot(1,4,4)\n",
    "plt.imshow(pictures_with_defected_welds[1], cmap='viridis')\n",
    "plt.title('Defected weld')\n",
    "plt.grid(False)\n",
    "plt.show()"
   ]
  },
  {
   "cell_type": "markdown",
   "metadata": {},
   "source": [
    "# Outcomes"
   ]
  },
  {
   "cell_type": "markdown",
   "metadata": {},
   "source": [
    "Raw data has several issues that don't allow to solve CV problems without proper preprocessing.\n",
    "\n",
    "- Sensors malfunctions cause zeroed signals. To fill them, following methods are proposed:\n",
    "    1. Abnormal values ($<2000$) are equal to 0. Then Min-Max scaling to $[0.5:1]$ range.\n",
    "    2. Abnormal values are equal to the mean of normal values from one picture. Then Min-Max scaling.\n",
    "    3. Abnormal values are equal to the mean of normal values over the column. Then Min-Max scaling.\n",
    "    4. Abnormal values are equal to the mean of neighboring sensors over the column. Then Min-Max scaling.\n",
    "    5. Abnormal values are equal to the interpolation results over the column. Then Min-Max scaling.\n",
    "    \n",
    "- Displaced origins between data and reports coordinates.\n",
    "- Inaccurate annotations, e.g. missed defects, wrong defect location, etc."
   ]
  },
  {
   "cell_type": "markdown",
   "metadata": {},
   "source": [
    "## 1st issue: Sensors malfunctions problem"
   ]
  },
  {
   "cell_type": "markdown",
   "metadata": {},
   "source": [
    "We are going to explore different filling methods."
   ]
  },
  {
   "cell_type": "code",
   "execution_count": 27,
   "metadata": {},
   "outputs": [],
   "source": [
    "def filling2(picture):\n",
    "    im = picture.copy()\n",
    "    mean = np.mean(im)\n",
    "\n",
    "    im[im == 0] = mean\n",
    "    return im"
   ]
  },
  {
   "cell_type": "code",
   "execution_count": 29,
   "metadata": {},
   "outputs": [],
   "source": [
    "def filling3(picture):\n",
    "    im = picture.copy()\n",
    "    for i in range(len(im)):\n",
    "        col = im[:,i]\n",
    "        mean = np.mean(col[col > 0])\n",
    "        col[col == 0] = mean\n",
    "    return im"
   ]
  },
  {
   "cell_type": "code",
   "execution_count": 31,
   "metadata": {},
   "outputs": [],
   "source": [
    "def filling4(picture):\n",
    "    im = picture.copy()\n",
    "    for i in range(len(im)):\n",
    "        col = im[:,i]\n",
    "        indices = np.where(col == 0)[0]\n",
    "        first_index = indices[0]\n",
    "        last_index = indices[-1]+1\n",
    "        \n",
    "        if (64-last_index) < 4:\n",
    "            indices = np.array([*np.arange(first_index-4,first_index), *np.arange(last_index,64)])\n",
    "        else:\n",
    "            indices = np.array([*np.arange(first_index-4,first_index), *np.arange(last_index,last_index+4)])\n",
    "\n",
    "        mean = np.mean(col[indices])\n",
    "        col[col == 0] = mean\n",
    "    return im"
   ]
  },
  {
   "cell_type": "code",
   "execution_count": 33,
   "metadata": {},
   "outputs": [],
   "source": [
    "def filling5(picture):\n",
    "    im = picture.copy()\n",
    "    for i in range(len(im)):\n",
    "        col = im[:,i]\n",
    "        indices = np.where(col == 0)[0]\n",
    "        first_index = indices[0]-1\n",
    "        last_index = indices[-1]+1\n",
    "        if last_index == 64:\n",
    "            last_index = 0\n",
    "        col[col == 0] = np.linspace(col[first_index], col[last_index], len(col[col == 0]))\n",
    "    return im"
   ]
  },
  {
   "cell_type": "code",
   "execution_count": 26,
   "metadata": {},
   "outputs": [],
   "source": [
    "image = normal_pictures[5].copy()"
   ]
  },
  {
   "cell_type": "code",
   "execution_count": 28,
   "metadata": {},
   "outputs": [],
   "source": [
    "im1 = filling2(image)"
   ]
  },
  {
   "cell_type": "code",
   "execution_count": 30,
   "metadata": {},
   "outputs": [],
   "source": [
    "im2 = filling3(image)"
   ]
  },
  {
   "cell_type": "code",
   "execution_count": 32,
   "metadata": {},
   "outputs": [],
   "source": [
    "im3 = filling4(image)"
   ]
  },
  {
   "cell_type": "code",
   "execution_count": 34,
   "metadata": {},
   "outputs": [],
   "source": [
    "im4 = filling5(image)"
   ]
  },
  {
   "cell_type": "code",
   "execution_count": 69,
   "metadata": {},
   "outputs": [
    {
     "data": {
      "image/png": "[encoded data removed]",
      "text/plain": [
       "<Figure size 1296x720 with 5 Axes>"
      ]
     },
     "metadata": {},
     "output_type": "display_data"
    }
   ],
   "source": [
    "plt.figure(figsize=(18,10))\n",
    "plt.subplot(1,5,1)\n",
    "plt.imshow(image, cmap='viridis')\n",
    "plt.grid(False)\n",
    "plt.title('Abnormal values (<2000) \\n are equal to 0.')\n",
    "plt.subplot(1,5,2)\n",
    "plt.imshow(im1, cmap='viridis')\n",
    "plt.grid(False)\n",
    "plt.title('Mean of normal values \\n from one picture')\n",
    "plt.subplot(1,5,3)\n",
    "plt.imshow(im2, cmap='viridis')\n",
    "plt.grid(False)\n",
    "plt.title('Mean of normal values \\n over the column')\n",
    "\n",
    "# plt.figure(figsize=(12,8))\n",
    "plt.subplot(1,5,4)\n",
    "plt.imshow(im3, cmap='viridis')\n",
    "plt.grid(False)\n",
    "plt.title('Mean of neighboring \\n sensors over the column')\n",
    "plt.subplot(1,5,5)\n",
    "plt.imshow(im4, cmap='viridis')\n",
    "plt.grid(False)\n",
    "plt.title('Interpolation\\n over the column')\n",
    "\n",
    "plt.show()"
   ]
  },
  {
   "cell_type": "markdown",
   "metadata": {},
   "source": [
    "## 2nd issue: Wrong defect location"
   ]
  },
  {
   "cell_type": "code",
   "execution_count": 84,
   "metadata": {},
   "outputs": [
    {
     "data": {
      "application/vnd.jupyter.widget-view+json": {
       "model_id": "e84d9949e46442929b3466275e5ba21b",
       "version_major": 2,
       "version_minor": 0
      },
      "text/plain": [
       "HBox(children=(IntProgress(value=0, max=711), HTML(value='')))"
      ]
     },
     "metadata": {},
     "output_type": "display_data"
    },
    {
     "name": "stdout",
     "output_type": "stream",
     "text": [
      "\n"
     ]
    }
   ],
   "source": [
    "pictures_with_defects_centered = crop_squares_with_defects(df, \n",
    "                                                  defects[defects['Defect location'] =='Стенка трубы'], \n",
    "                                                  scaling=False)"
   ]
  },
  {
   "cell_type": "code",
   "execution_count": 100,
   "metadata": {},
   "outputs": [
    {
     "data": {
      "image/png": "[encoded data removed]",
      "text/plain": [
       "<Figure size 864x576 with 2 Axes>"
      ]
     },
     "metadata": {},
     "output_type": "display_data"
    }
   ],
   "source": [
    "i = 1\n",
    "plt.figure(figsize=(12,8))\n",
    "plt.subplot(1,2,1)\n",
    "plt.imshow(pictures_with_defects[i], cmap='viridis')\n",
    "plt.grid(False)\n",
    "plt.title('Defect location according to report')\n",
    "plt.subplot(1,2,2)\n",
    "plt.imshow(pictures_with_defects_centered[i], cmap='viridis')\n",
    "plt.grid(False)\n",
    "plt.title('Updated defect location')\n",
    "\n",
    "plt.show()"
   ]
  },
  {
   "cell_type": "markdown",
   "metadata": {},
   "source": [
    "# Pictures saving"
   ]
  },
  {
   "cell_type": "code",
   "execution_count": 36,
   "metadata": {},
   "outputs": [],
   "source": [
    "# # saving normal pictures\n",
    "# train_test_saving(normal_pictures, kind='normal')"
   ]
  },
  {
   "cell_type": "code",
   "execution_count": 37,
   "metadata": {},
   "outputs": [],
   "source": [
    "# # saving pictures with normal welds\n",
    "# train_test_saving(pictures_with_normal_welds, kind='normal_weld')"
   ]
  },
  {
   "cell_type": "code",
   "execution_count": 38,
   "metadata": {},
   "outputs": [],
   "source": [
    "# # saving pictures with defects\n",
    "# train_test_saving(pictures_with_defects, kind='defect')"
   ]
  },
  {
   "cell_type": "code",
   "execution_count": 44,
   "metadata": {},
   "outputs": [],
   "source": [
    "max_ = df.max().max()"
   ]
  },
  {
   "cell_type": "code",
   "execution_count": 47,
   "metadata": {},
   "outputs": [],
   "source": [
    "import pickle\n",
    "with open('../../data1_not_centered.pkl', 'wb') as f:\n",
    "    pickle.dump([[picture / max_ for picture in normal_pictures], \n",
    "                 [picture / max_ for picture in pictures_with_normal_welds], \n",
    "                 [picture / max_ for picture in pictures_with_defects]], f)"
   ]
  },
  {
   "cell_type": "code",
   "execution_count": 48,
   "metadata": {},
   "outputs": [],
   "source": [
    "import pickle\n",
    "with open('../../data2_not_centered.pkl', 'wb') as f:\n",
    "    pickle.dump([[filling2(picture / max_) for picture in normal_pictures], \n",
    "                 [filling2(picture / max_) for picture in pictures_with_normal_welds], \n",
    "                 [filling2(picture / max_) for picture in pictures_with_defects]], f)"
   ]
  },
  {
   "cell_type": "code",
   "execution_count": 49,
   "metadata": {},
   "outputs": [],
   "source": [
    "import pickle\n",
    "with open('../../data3_not_centered.pkl', 'wb') as f:\n",
    "    pickle.dump([[filling3(picture / max_) for picture in normal_pictures], \n",
    "                 [filling3(picture / max_) for picture in pictures_with_normal_welds], \n",
    "                 [filling3(picture / max_) for picture in pictures_with_defects]], f)"
   ]
  },
  {
   "cell_type": "code",
   "execution_count": 50,
   "metadata": {},
   "outputs": [],
   "source": [
    "import pickle\n",
    "with open('../../data4_not_centered.pkl', 'wb') as f:\n",
    "    pickle.dump([[filling4(picture / max_) for picture in normal_pictures], \n",
    "                 [filling4(picture / max_) for picture in pictures_with_normal_welds], \n",
    "                 [filling4(picture / max_) for picture in pictures_with_defects]], f)"
   ]
  },
  {
   "cell_type": "code",
   "execution_count": 51,
   "metadata": {},
   "outputs": [],
   "source": [
    "import pickle\n",
    "with open('../../data5_not_centered.pkl', 'wb') as f:\n",
    "    pickle.dump([[filling5(picture / max_) for picture in normal_pictures], \n",
    "                 [filling5(picture / max_) for picture in pictures_with_normal_welds], \n",
    "                 [filling5(picture / max_) for picture in pictures_with_defects]], f)"
   ]
  },
  {
   "cell_type": "markdown",
   "metadata": {},
   "source": [
    "# Dataset for validation"
   ]
  },
  {
   "cell_type": "markdown",
   "metadata": {},
   "source": [
    "`todo`"
   ]
  },
  {
   "cell_type": "code",
   "execution_count": null,
   "metadata": {},
   "outputs": [],
   "source": []
  }
 ],
 "metadata": {
  "kernelspec": {
   "display_name": "Python 3",
   "language": "python",
   "name": "python3"
  },
  "language_info": {
   "codemirror_mode": {
    "name": "ipython",
    "version": 3
   },
   "file_extension": ".py",
   "mimetype": "text/x-python",
   "name": "python",
   "nbconvert_exporter": "python",
   "pygments_lexer": "ipython3",
   "version": "3.7.5"
  }
 },
 "nbformat": 4,
 "nbformat_minor": 2
}
